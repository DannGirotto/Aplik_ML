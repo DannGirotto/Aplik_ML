{
  "cells": [
    {
      "cell_type": "markdown",
      "metadata": {
        "id": "view-in-github",
        "colab_type": "text"
      },
      "source": [
        "<a href=\"https://colab.research.google.com/github/DannGirotto/Aplik_ML/blob/main/01_Exercicio_22_AUG.ipynb\" target=\"_parent\"><img src=\"https://colab.research.google.com/assets/colab-badge.svg\" alt=\"Open In Colab\"/></a>"
      ]
    },
    {
      "cell_type": "markdown",
      "source": [
        "Import de bibliotecas do projeto"
      ],
      "metadata": {
        "id": "5ag6C-DkEZmx"
      }
    },
    {
      "cell_type": "code",
      "source": [
        "from keras.models import load_model  # TensorFlow is required for Keras to work\n",
        "from PIL import Image, ImageOps  # Install pillow instead of PIL\n",
        "import numpy as np\n",
        "\n",
        "# Disable scientific notation for clarity\n",
        "np.set_printoptions(suppress=True)"
      ],
      "metadata": {
        "id": "ycDAHqkQEbrG"
      },
      "execution_count": 55,
      "outputs": []
    },
    {
      "cell_type": "markdown",
      "source": [
        "Leitura do modelo e txt"
      ],
      "metadata": {
        "id": "kRSqXHj_0HPq"
      }
    },
    {
      "cell_type": "code",
      "source": [
        "# Load the model\n",
        "model = load_model(\"keras_model_girotto.h5\", compile=False)\n",
        "\n",
        "# Load the labels\n",
        "class_names = open(\"labels_girotto.txt\", \"r\").readlines()"
      ],
      "metadata": {
        "id": "f_JNGm6N0GxH"
      },
      "execution_count": 56,
      "outputs": []
    },
    {
      "cell_type": "markdown",
      "source": [
        "Execução da lógica"
      ],
      "metadata": {
        "id": "PKitDs7DEb62"
      }
    },
    {
      "cell_type": "code",
      "source": [
        "data = np.ndarray(shape=(1, 224, 224, 3), dtype=np.float32)\n",
        "classes = []\n",
        "confianca = []\n",
        "arquivo = []\n",
        "var_fotos = [\"bone\",\"bone2\",\"controle1\",\"controle2\",\"controle3\",\"controle4\",\"controle5\",\"girotto1\",\"mao1\",\"mao2\",\"mao3\"]\n",
        "for i in var_fotos:\n",
        "\n",
        "  # Replace this with the path to your image\n",
        "  image = Image.open(i + \".jpg\").convert(\"RGB\")\n",
        "\n",
        "  # resizing the image to be at least 224x224 and then cropping from the center\n",
        "  size = (224, 224)\n",
        "  image = ImageOps.fit(image, size, Image.Resampling.LANCZOS)\n",
        "\n",
        "  # turn the image into a numpy array\n",
        "  image_array = np.asarray(image)\n",
        "\n",
        "  # Normalize the image\n",
        "  normalized_image_array = (image_array.astype(np.float32) / 127.5) - 1\n",
        "\n",
        "  # Load the image into the array\n",
        "  data[0] = normalized_image_array\n",
        "\n",
        "  # Predicts the model\n",
        "  prediction = model.predict(data)\n",
        "  index = np.argmax(prediction)\n",
        "  class_name = class_names[index]\n",
        "  confidence_score = prediction[0][index]\n",
        "\n",
        "\n",
        "\n",
        "  classes.append(str.strip(class_name[2:]))\n",
        "  confianca.append(confidence_score)\n",
        "  arquivo.append(i)\n",
        "\n",
        "  # Print prediction and confidence score\n",
        "  print(\"Class:\", class_name[2:], end=\"\")\n",
        "  print(\"Confidence Score:\", confidence_score)\n",
        "  print(\"File used:\", i + \".jpg\")"
      ],
      "metadata": {
        "colab": {
          "base_uri": "https://localhost:8080/"
        },
        "id": "prEzFLNVEj1U",
        "outputId": "2f3c84c5-ad06-4d68-8c7b-3ff95adbb910"
      },
      "execution_count": 156,
      "outputs": [
        {
          "output_type": "stream",
          "name": "stdout",
          "text": [
            "1/1 [==============================] - 0s 24ms/step\n",
            "Class: Girotto de boné\n",
            "Confidence Score: 0.9993111\n",
            "File used: bone.jpg\n",
            "1/1 [==============================] - 0s 25ms/step\n",
            "Class: Girotto de boné\n",
            "Confidence Score: 0.9997329\n",
            "File used: bone2.jpg\n",
            "1/1 [==============================] - 0s 25ms/step\n",
            "Class: Girotto\n",
            "Confidence Score: 0.65957165\n",
            "File used: controle1.jpg\n",
            "1/1 [==============================] - 0s 27ms/step\n",
            "Class: Controle do ar\n",
            "Confidence Score: 0.99926215\n",
            "File used: controle2.jpg\n",
            "1/1 [==============================] - 0s 32ms/step\n",
            "Class: Controle do ar\n",
            "Confidence Score: 0.99869543\n",
            "File used: controle3.jpg\n",
            "1/1 [==============================] - 0s 27ms/step\n",
            "Class: Controle do ar\n",
            "Confidence Score: 0.9996228\n",
            "File used: controle4.jpg\n",
            "1/1 [==============================] - 0s 25ms/step\n",
            "Class: Controle do ar\n",
            "Confidence Score: 0.9994241\n",
            "File used: controle5.jpg\n",
            "1/1 [==============================] - 0s 41ms/step\n",
            "Class: Girotto\n",
            "Confidence Score: 0.9319087\n",
            "File used: girotto1.jpg\n",
            "1/1 [==============================] - 0s 54ms/step\n",
            "Class: Palma da mão\n",
            "Confidence Score: 0.9960532\n",
            "File used: mao1.jpg\n",
            "1/1 [==============================] - 0s 82ms/step\n",
            "Class: Palma da mão\n",
            "Confidence Score: 0.999705\n",
            "File used: mao2.jpg\n",
            "1/1 [==============================] - 0s 38ms/step\n",
            "Class: Palma da mão\n",
            "Confidence Score: 0.9985826\n",
            "File used: mao3.jpg\n"
          ]
        }
      ]
    }
  ],
  "metadata": {
    "colab": {
      "name": "Olá, este é o Colaboratory",
      "provenance": [],
      "include_colab_link": true
    },
    "kernelspec": {
      "display_name": "Python 3",
      "name": "python3"
    }
  },
  "nbformat": 4,
  "nbformat_minor": 0
}